{
 "cells": [
  {
   "cell_type": "code",
   "execution_count": 7,
   "id": "2858fa11",
   "metadata": {},
   "outputs": [
    {
     "name": "stdout",
     "output_type": "stream",
     "text": [
      "Defaulting to user installation because normal site-packages is not writeable\n",
      "Requirement already satisfied: textblob in /Users/praveerranjansingh/Library/Python/3.9/lib/python/site-packages (0.19.0)\n",
      "Requirement already satisfied: nltk>=3.9 in /Users/praveerranjansingh/Library/Python/3.9/lib/python/site-packages (from textblob) (3.9.1)\n",
      "Requirement already satisfied: tqdm in /Users/praveerranjansingh/Library/Python/3.9/lib/python/site-packages (from nltk>=3.9->textblob) (4.67.1)\n",
      "Requirement already satisfied: regex>=2021.8.3 in /Users/praveerranjansingh/Library/Python/3.9/lib/python/site-packages (from nltk>=3.9->textblob) (2024.11.6)\n",
      "Requirement already satisfied: joblib in /Users/praveerranjansingh/Library/Python/3.9/lib/python/site-packages (from nltk>=3.9->textblob) (1.5.1)\n",
      "Requirement already satisfied: click in /Users/praveerranjansingh/Library/Python/3.9/lib/python/site-packages (from nltk>=3.9->textblob) (8.1.8)\n",
      "\u001b[33mWARNING: You are using pip version 21.2.4; however, version 25.1.1 is available.\n",
      "You should consider upgrading via the '/Library/Developer/CommandLineTools/usr/bin/python3 -m pip install --upgrade pip' command.\u001b[0m\n"
     ]
    }
   ],
   "source": [
    "import sys\n",
    "!{sys.executable} -m pip install textblob\n"
   ]
  },
  {
   "cell_type": "code",
   "execution_count": 8,
   "id": "dfbc1324",
   "metadata": {},
   "outputs": [
    {
     "name": "stdout",
     "output_type": "stream",
     "text": [
      "[nltk_data] Downloading package brown to\n",
      "[nltk_data]     /Users/praveerranjansingh/nltk_data...\n",
      "[nltk_data]   Package brown is already up-to-date!\n",
      "[nltk_data] Downloading package punkt_tab to\n",
      "[nltk_data]     /Users/praveerranjansingh/nltk_data...\n",
      "[nltk_data]   Package punkt_tab is already up-to-date!\n",
      "[nltk_data] Downloading package wordnet to\n",
      "[nltk_data]     /Users/praveerranjansingh/nltk_data...\n",
      "[nltk_data]   Package wordnet is already up-to-date!\n",
      "[nltk_data] Downloading package averaged_perceptron_tagger_eng to\n",
      "[nltk_data]     /Users/praveerranjansingh/nltk_data...\n",
      "[nltk_data]   Package averaged_perceptron_tagger_eng is already up-to-\n",
      "[nltk_data]       date!\n",
      "[nltk_data] Downloading package conll2000 to\n",
      "[nltk_data]     /Users/praveerranjansingh/nltk_data...\n",
      "[nltk_data]   Package conll2000 is already up-to-date!\n",
      "[nltk_data] Downloading package movie_reviews to\n",
      "[nltk_data]     /Users/praveerranjansingh/nltk_data...\n",
      "[nltk_data]   Package movie_reviews is already up-to-date!\n",
      "Finished.\n"
     ]
    }
   ],
   "source": [
    "!{sys.executable} -m textblob.download_corpora\n"
   ]
  },
  {
   "cell_type": "code",
   "execution_count": 9,
   "id": "c899d01f",
   "metadata": {},
   "outputs": [],
   "source": [
    "from textblob import TextBlob\n"
   ]
  },
  {
   "cell_type": "code",
   "execution_count": 10,
   "id": "5a0d14b9",
   "metadata": {},
   "outputs": [],
   "source": [
    "def analyze_sentiment(text):\n",
    "    blob = TextBlob(text)\n",
    "    polarity = blob.sentiment.polarity\n",
    "    if polarity > 0:\n",
    "        return \"Positive 😊\"\n",
    "    elif polarity < 0:\n",
    "        return \"Negative 😠\"\n",
    "    else:\n",
    "        return \"Neutral 😐\"\n"
   ]
  },
  {
   "cell_type": "code",
   "execution_count": 11,
   "id": "e260e352",
   "metadata": {},
   "outputs": [
    {
     "name": "stdout",
     "output_type": "stream",
     "text": [
      "Sentence: I love programming!\n",
      "Sentiment: Positive 😊\n",
      "\n",
      "Sentence: This is the worst movie ever.\n",
      "Sentiment: Negative 😠\n",
      "\n",
      "Sentence: I have no strong feelings about this product.\n",
      "Sentiment: Negative 😠\n",
      "\n",
      "Sentence: Today was a great day!\n",
      "Sentiment: Positive 😊\n",
      "\n",
      "Sentence: I hate being stuck in traffic.\n",
      "Sentiment: Negative 😠\n",
      "\n"
     ]
    }
   ],
   "source": [
    "examples = [\n",
    "    \"I love programming!\",\n",
    "    \"This is the worst movie ever.\",\n",
    "    \"I have no strong feelings about this product.\",\n",
    "    \"Today was a great day!\",\n",
    "    \"I hate being stuck in traffic.\"\n",
    "]\n",
    "\n",
    "for sentence in examples:\n",
    "    print(f\"Sentence: {sentence}\")\n",
    "    print(\"Sentiment:\", analyze_sentiment(sentence))\n",
    "    print()\n"
   ]
  },
  {
   "cell_type": "code",
   "execution_count": 12,
   "id": "3ac7e929",
   "metadata": {},
   "outputs": [
    {
     "name": "stdout",
     "output_type": "stream",
     "text": [
      "Sentiment: Neutral 😐\n"
     ]
    }
   ],
   "source": [
    "your_text = input(\"Type anything and I'll detect the mood: \")\n",
    "print(\"Sentiment:\", analyze_sentiment(your_text))\n"
   ]
  },
  {
   "cell_type": "code",
   "execution_count": null,
   "id": "de78e8ff",
   "metadata": {},
   "outputs": [],
   "source": []
  }
 ],
 "metadata": {
  "kernelspec": {
   "display_name": "Python 3",
   "language": "python",
   "name": "python3"
  },
  "language_info": {
   "codemirror_mode": {
    "name": "ipython",
    "version": 3
   },
   "file_extension": ".py",
   "mimetype": "text/x-python",
   "name": "python",
   "nbconvert_exporter": "python",
   "pygments_lexer": "ipython3",
   "version": "3.9.6"
  }
 },
 "nbformat": 4,
 "nbformat_minor": 5
}
